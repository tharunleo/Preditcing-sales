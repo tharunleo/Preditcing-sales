{
 "cells": [
  {
   "cell_type": "markdown",
   "metadata": {
    "id": "XTRboLFdkqPT"
   },
   "source": [
    "# Predicting Sales Using Credit Card Spending Patterns\n",
    "\n",
    "\n",
    "---\n",
    "\n",
    "\n",
    "---\n",
    "\n",
    "# 📊 **Table of Contents**\n",
    "1. [Week 1: Data Loading, Exploration, and Basic Setup](#week-1)\n",
    "2. [Week 2: Data Cleaning and Exploratory Data Analysis (EDA)](#week-2)\n",
    "3. [Week 3: Feature Engineering, Model Training, and Evaluation](#week-3)\n",
    "4. [Week 4: Model Selection, Baseline, and Hyperparameter Tuning](#week-4)\n",
    "5. [Week 5: Model Evaluation, Comparison, and Documentation](#week-5)"
   ]
  },
  {
   "cell_type": "markdown",
   "metadata": {
    "id": "G4zkug25k1Hf"
   },
   "source": [
    "### 🗂️ **Week 1: Data Loading, Exploration, and Basic Setup** <a name=\"week-1\"></a>"
   ]
  },
  {
   "cell_type": "markdown",
   "metadata": {
    "id": "O1R4nfyj0-IX"
   },
   "source": [
    "####📥 Step 1: Importing Required Libraries"
   ]
  },
  {
   "cell_type": "code",
   "execution_count": 3,
   "metadata": {
    "id": "qycnTtsB1Kby"
   },
   "outputs": [
    {
     "ename": "ModuleNotFoundError",
     "evalue": "No module named 'pandas'",
     "output_type": "error",
     "traceback": [
      "\u001b[31m---------------------------------------------------------------------------\u001b[39m",
      "\u001b[31mModuleNotFoundError\u001b[39m                       Traceback (most recent call last)",
      "\u001b[36mCell\u001b[39m\u001b[36m \u001b[39m\u001b[32mIn[3]\u001b[39m\u001b[32m, line 1\u001b[39m\n\u001b[32m----> \u001b[39m\u001b[32m1\u001b[39m \u001b[38;5;28;01mimport\u001b[39;00m\u001b[38;5;250m \u001b[39m\u001b[34;01mpandas\u001b[39;00m\u001b[38;5;250m \u001b[39m\u001b[38;5;28;01mas\u001b[39;00m\u001b[38;5;250m \u001b[39m\u001b[34;01mpd\u001b[39;00m\n\u001b[32m      2\u001b[39m \u001b[38;5;28;01mimport\u001b[39;00m\u001b[38;5;250m \u001b[39m\u001b[34;01mnumpy\u001b[39;00m\u001b[38;5;250m \u001b[39m\u001b[38;5;28;01mas\u001b[39;00m\u001b[38;5;250m \u001b[39m\u001b[34;01mnp\u001b[39;00m\n\u001b[32m      3\u001b[39m \u001b[38;5;28;01mimport\u001b[39;00m\u001b[38;5;250m \u001b[39m\u001b[34;01mmatplotlib\u001b[39;00m\u001b[34;01m.\u001b[39;00m\u001b[34;01mpyplot\u001b[39;00m\u001b[38;5;250m \u001b[39m\u001b[38;5;28;01mas\u001b[39;00m\u001b[38;5;250m \u001b[39m\u001b[34;01mplt\u001b[39;00m\n",
      "\u001b[31mModuleNotFoundError\u001b[39m: No module named 'pandas'"
     ]
    }
   ],
   "source": [
    "import pandas as pd\n",
    "import numpy as np\n",
    "import matplotlib.pyplot as plt\n",
    "import seaborn as sns\n",
    "from sklearn.model_selection import train_test_split\n",
    "from sklearn.ensemble import RandomForestRegressor\n",
    "from sklearn.metrics import mean_absolute_error, mean_squared_error, r2_score"
   ]
  },
  {
   "cell_type": "markdown",
   "metadata": {
    "id": "TDqxv0eJ1Qgj"
   },
   "source": [
    "#### 📊 Step 2: Load the Dataset"
   ]
  },
  {
   "cell_type": "code",
   "execution_count": 2,
   "metadata": {
    "id": "FFt52X3fv9Pj"
   },
   "outputs": [
    {
     "ename": "SyntaxError",
     "evalue": "(unicode error) 'unicodeescape' codec can't decode bytes in position 2-3: truncated \\UXXXXXXXX escape (3274873598.py, line 1)",
     "output_type": "error",
     "traceback": [
      "  \u001b[36mCell\u001b[39m\u001b[36m \u001b[39m\u001b[32mIn[2]\u001b[39m\u001b[32m, line 1\u001b[39m\n\u001b[31m    \u001b[39m\u001b[31mfile_path = \"C:\\Users\\tharu\\Downloads\\credit_card_transactions.csv~\" # Ensure this file is in the same directory\u001b[39m\n                ^\n\u001b[31mSyntaxError\u001b[39m\u001b[31m:\u001b[39m (unicode error) 'unicodeescape' codec can't decode bytes in position 2-3: truncated \\UXXXXXXXX escape\n"
     ]
    }
   ],
   "source": [
    "file_path = \"C:\\Users\\tharu\\Downloads\\credit_card_transactions.csv~\" # Ensure this file is in the same directory\n",
    "data = pd.read_csv(file_path)"
   ]
  },
  {
   "cell_type": "markdown",
   "metadata": {
    "id": "09VEADQV1rf4"
   },
   "source": [
    "#### 🔍 Step 3: Display Basic Dataset Information"
   ]
  },
  {
   "cell_type": "code",
   "execution_count": null,
   "metadata": {
    "colab": {
     "base_uri": "https://localhost:8080/"
    },
    "executionInfo": {
     "elapsed": 637,
     "status": "ok",
     "timestamp": 1740563713944,
     "user": {
      "displayName": "Madanu Tharun",
      "userId": "05589658064618241522"
     },
     "user_tz": -330
    },
    "id": "d9PYJKpW1w0f",
    "outputId": "37f910d4-726a-4896-a17a-c489217267f7"
   },
   "outputs": [
    {
     "name": "stdout",
     "output_type": "stream",
     "text": [
      "Dataset Info:\n",
      "<class 'pandas.core.frame.DataFrame'>\n",
      "RangeIndex: 1296675 entries, 0 to 1296674\n",
      "Data columns (total 24 columns):\n",
      " #   Column                 Non-Null Count    Dtype  \n",
      "---  ------                 --------------    -----  \n",
      " 0   Unnamed: 0             1296675 non-null  int64  \n",
      " 1   trans_date_trans_time  1296675 non-null  object \n",
      " 2   cc_num                 1296675 non-null  int64  \n",
      " 3   merchant               1296675 non-null  object \n",
      " 4   category               1296675 non-null  object \n",
      " 5   amt                    1296675 non-null  float64\n",
      " 6   first                  1296675 non-null  object \n",
      " 7   last                   1296675 non-null  object \n",
      " 8   gender                 1296675 non-null  object \n",
      " 9   street                 1296675 non-null  object \n",
      " 10  city                   1296675 non-null  object \n",
      " 11  state                  1296675 non-null  object \n",
      " 12  zip                    1296675 non-null  int64  \n",
      " 13  lat                    1296675 non-null  float64\n",
      " 14  long                   1296675 non-null  float64\n",
      " 15  city_pop               1296675 non-null  int64  \n",
      " 16  job                    1296675 non-null  object \n",
      " 17  dob                    1296675 non-null  object \n",
      " 18  trans_num              1296675 non-null  object \n",
      " 19  unix_time              1296675 non-null  int64  \n",
      " 20  merch_lat              1296675 non-null  float64\n",
      " 21  merch_long             1296675 non-null  float64\n",
      " 22  is_fraud               1296675 non-null  int64  \n",
      " 23  merch_zipcode          1100702 non-null  float64\n",
      "dtypes: float64(6), int64(6), object(12)\n",
      "memory usage: 237.4+ MB\n",
      "\n",
      "Dataset Preview:\n",
      "   Unnamed: 0 trans_date_trans_time            cc_num  \\\n",
      "0           0   2019-01-01 00:00:18  2703186189652095   \n",
      "1           1   2019-01-01 00:00:44      630423337322   \n",
      "2           2   2019-01-01 00:00:51    38859492057661   \n",
      "3           3   2019-01-01 00:01:16  3534093764340240   \n",
      "4           4   2019-01-01 00:03:06   375534208663984   \n",
      "\n",
      "                             merchant       category     amt      first  \\\n",
      "0          fraud_Rippin, Kub and Mann       misc_net    4.97   Jennifer   \n",
      "1     fraud_Heller, Gutmann and Zieme    grocery_pos  107.23  Stephanie   \n",
      "2                fraud_Lind-Buckridge  entertainment  220.11     Edward   \n",
      "3  fraud_Kutch, Hermiston and Farrell  gas_transport   45.00     Jeremy   \n",
      "4                 fraud_Keeling-Crist       misc_pos   41.96      Tyler   \n",
      "\n",
      "      last gender                        street  ...      long city_pop  \\\n",
      "0    Banks      F                561 Perry Cove  ...  -81.1781     3495   \n",
      "1     Gill      F  43039 Riley Greens Suite 393  ... -118.2105      149   \n",
      "2  Sanchez      M      594 White Dale Suite 530  ... -112.2620     4154   \n",
      "3    White      M   9443 Cynthia Court Apt. 038  ... -112.1138     1939   \n",
      "4   Garcia      M              408 Bradley Rest  ...  -79.4629       99   \n",
      "\n",
      "                                 job         dob  \\\n",
      "0          Psychologist, counselling  1988-03-09   \n",
      "1  Special educational needs teacher  1978-06-21   \n",
      "2        Nature conservation officer  1962-01-19   \n",
      "3                    Patent attorney  1967-01-12   \n",
      "4     Dance movement psychotherapist  1986-03-28   \n",
      "\n",
      "                          trans_num   unix_time  merch_lat  merch_long  \\\n",
      "0  0b242abb623afc578575680df30655b9  1325376018  36.011293  -82.048315   \n",
      "1  1f76529f8574734946361c461b024d99  1325376044  49.159047 -118.186462   \n",
      "2  a1a22d70485983eac12b5b88dad1cf95  1325376051  43.150704 -112.154481   \n",
      "3  6b849c168bdad6f867558c3793159a81  1325376076  47.034331 -112.561071   \n",
      "4  a41d7549acf90789359a9aa5346dcb46  1325376186  38.674999  -78.632459   \n",
      "\n",
      "  is_fraud  merch_zipcode  \n",
      "0        0        28705.0  \n",
      "1        0            NaN  \n",
      "2        0        83236.0  \n",
      "3        0            NaN  \n",
      "4        0        22844.0  \n",
      "\n",
      "[5 rows x 24 columns]\n"
     ]
    }
   ],
   "source": [
    "print(\"Dataset Info:\")\n",
    "data.info()\n",
    "\n",
    "print(\"\\nDataset Preview:\")\n",
    "print(data.head())"
   ]
  },
  {
   "cell_type": "markdown",
   "metadata": {
    "id": "nVJLA5a710q7"
   },
   "source": [
    "#### ❓ Step 4: Check for Missing Values"
   ]
  },
  {
   "cell_type": "code",
   "execution_count": null,
   "metadata": {
    "colab": {
     "base_uri": "https://localhost:8080/"
    },
    "executionInfo": {
     "elapsed": 696,
     "status": "ok",
     "timestamp": 1740563714642,
     "user": {
      "displayName": "Madanu Tharun",
      "userId": "05589658064618241522"
     },
     "user_tz": -330
    },
    "id": "cyd8EBsv16z0",
    "outputId": "affeeeb2-4523-4f04-b1a8-626baf57f4ed"
   },
   "outputs": [
    {
     "name": "stdout",
     "output_type": "stream",
     "text": [
      "\n",
      "Missing Values:\n",
      "Unnamed: 0                    0\n",
      "trans_date_trans_time         0\n",
      "cc_num                        0\n",
      "merchant                      0\n",
      "category                      0\n",
      "amt                           0\n",
      "first                         0\n",
      "last                          0\n",
      "gender                        0\n",
      "street                        0\n",
      "city                          0\n",
      "state                         0\n",
      "zip                           0\n",
      "lat                           0\n",
      "long                          0\n",
      "city_pop                      0\n",
      "job                           0\n",
      "dob                           0\n",
      "trans_num                     0\n",
      "unix_time                     0\n",
      "merch_lat                     0\n",
      "merch_long                    0\n",
      "is_fraud                      0\n",
      "merch_zipcode            195973\n",
      "dtype: int64\n"
     ]
    }
   ],
   "source": [
    "print(\"\\nMissing Values:\")\n",
    "print(data.isnull().sum())"
   ]
  },
  {
   "cell_type": "markdown",
   "metadata": {
    "id": "tSDwskl2lBWc"
   },
   "source": [
    "###🧹 **Week 2: Data Cleaning and Exploratory Data Analysis (EDA)** <a name=\"week-2\"></a>"
   ]
  },
  {
   "cell_type": "markdown",
   "metadata": {
    "id": "8GAwD7rk2riK"
   },
   "source": [
    "#### 🚿 Step 5: Data Cleaning"
   ]
  },
  {
   "cell_type": "code",
   "execution_count": null,
   "metadata": {
    "id": "A5K6-gYe2xUv"
   },
   "outputs": [],
   "source": [
    "# Rename date column for consistency\n",
    "data.rename(columns={'trans_date_trans_time': 'Transaction Date'}, inplace=True)\n",
    "\n",
    "# Convert 'Transaction Date' to datetime format\n",
    "data['Transaction Date'] = pd.to_datetime(data['Transaction Date'], errors='coerce')\n",
    "\n",
    "# Drop columns not useful for sales prediction\n",
    "columns_to_drop = ['Unnamed: 0', 'cc_num', 'first', 'last', 'gender', 'street', 'city',\n",
    "                   'state', 'zip', 'lat', 'long', 'city_pop', 'job', 'dob', 'trans_num',\n",
    "                   'unix_time', 'merch_lat', 'merch_long', 'is_fraud', 'merch_zipcode', 'Transaction Date']\n",
    "data_cleaned = data.drop(columns=columns_to_drop)\n",
    "\n",
    "# Remove rows with missing values\n",
    "data_cleaned.dropna(inplace=True)"
   ]
  },
  {
   "cell_type": "markdown",
   "metadata": {
    "id": "aveWS-DI20po"
   },
   "source": [
    "#### 📈 Step 6: Exploratory Data Analysis (EDA)"
   ]
  },
  {
   "cell_type": "code",
   "execution_count": null,
   "metadata": {
    "colab": {
     "base_uri": "https://localhost:8080/",
     "height": 1000
    },
    "executionInfo": {
     "elapsed": 6349,
     "status": "ok",
     "timestamp": 1740563721493,
     "user": {
      "displayName": "Madanu Tharun",
      "userId": "05589658064618241522"
     },
     "user_tz": -330
    },
    "id": "5lm6_kDg25vO",
    "outputId": "8a075e00-b2f6-4c9b-9ead-7672f26b41cc"
   },
   "outputs": [
    {
     "data": {
      "image/png": "[encoded data removed]",
      "text/plain": [
       "<Figure size 1000x600 with 1 Axes>"
      ]
     },
     "metadata": {},
     "output_type": "display_data"
    },
    {
     "name": "stdout",
     "output_type": "stream",
     "text": [
      "\n",
      "Spending by Category (Transactions ≤ 5000):\n",
      "category\n",
      "grocery_pos       14460822.38\n",
      "shopping_pos       9214018.71\n",
      "shopping_net       8527132.22\n",
      "gas_transport      8351732.29\n",
      "home               7173928.11\n",
      "kids_pets          6503680.16\n",
      "entertainment      6036678.56\n",
      "misc_net           5117709.26\n",
      "misc_pos           5009582.50\n",
      "food_dining        4672459.44\n",
      "health_fitness     4653108.02\n",
      "personal_care      4353450.53\n",
      "travel             3500241.47\n",
      "grocery_net        2439412.68\n",
      "Name: amt, dtype: float64\n"
     ]
    },
    {
     "data": {
      "image/png": "[encoded data removed]",
      "text/plain": [
       "<Figure size 1000x600 with 1 Axes>"
      ]
     },
     "metadata": {},
     "output_type": "display_data"
    }
   ],
   "source": [
    "### 📊 Transaction Amount Distribution\n",
    "plt.figure(figsize=(10, 6))\n",
    "sns.histplot(data_cleaned['amt'], bins=30, kde=True, color='skyblue')\n",
    "plt.title(\"Transaction Amount Distribution (0-5000 Range)\")\n",
    "plt.xlabel(\"Transaction Amount\")\n",
    "plt.ylabel(\"Frequency\")\n",
    "plt.xlim(0, 5000)  # Setting range for more detailed visualization\n",
    "plt.show()\n",
    "\n",
    "### 📊 Spending by Category (Filtered for Transactions ≤ 5000)\n",
    "category_spending_filtered = data[data['amt'] <= 5000].groupby('category')['amt'].sum().sort_values(ascending=False)\n",
    "print(\"\\nSpending by Category (Transactions ≤ 5000):\")\n",
    "print(category_spending_filtered)\n",
    "\n",
    "plt.figure(figsize=(10, 6))\n",
    "category_spending_filtered.plot(kind='bar', color='orange')\n",
    "plt.title(\"Total Spending by Category (0-5000 Range)\")\n",
    "plt.xlabel(\"Category\")\n",
    "plt.ylabel(\"Total Spending\")\n",
    "plt.xticks(rotation=45)  # Rotate category labels for better readability\n",
    "plt.show()"
   ]
  },
  {
   "cell_type": "markdown",
   "metadata": {
    "id": "NYDUmHJFkmeY"
   },
   "source": [
    "### 🚀 **Week 3: Feature Engineering, Model Training, and Evaluation** <a name=\"week-3\"></a>\n"
   ]
  },
  {
   "cell_type": "markdown",
   "metadata": {
    "id": "k6tklzVH3CM0"
   },
   "source": [
    "#### ⚙️ Step 7: Feature Engineering"
   ]
  },
  {
   "cell_type": "code",
   "execution_count": null,
   "metadata": {
    "id": "0EzEKL1-3EtS"
   },
   "outputs": [
    {
     "ename": "NameError",
     "evalue": "name 'pd' is not defined",
     "output_type": "error",
     "traceback": [
      "\u001b[31m---------------------------------------------------------------------------\u001b[39m",
      "\u001b[31mNameError\u001b[39m                                 Traceback (most recent call last)",
      "\u001b[36mCell\u001b[39m\u001b[36m \u001b[39m\u001b[32mIn[1]\u001b[39m\u001b[32m, line 2\u001b[39m\n\u001b[32m      1\u001b[39m \u001b[38;5;66;03m# Convert categorical columns to numerical using One-Hot Encoding\u001b[39;00m\n\u001b[32m----> \u001b[39m\u001b[32m2\u001b[39m data_cleaned = \u001b[43mpd\u001b[49m.get_dummies(data_cleaned, columns=[\u001b[33m'\u001b[39m\u001b[33mmerchant\u001b[39m\u001b[33m'\u001b[39m, \u001b[33m'\u001b[39m\u001b[33mcategory\u001b[39m\u001b[33m'\u001b[39m], drop_first=\u001b[38;5;28;01mTrue\u001b[39;00m)\n",
      "\u001b[31mNameError\u001b[39m: name 'pd' is not defined"
     ]
    }
   ],
   "source": [
    "# Convert categorical columns to numerical using One-Hot Encoding\n",
    "data_cleaned = pd.get_dummies(data_cleaned, columns=['merchant', 'category'], drop_first=True)"
   ]
  },
  {
   "cell_type": "markdown",
   "metadata": {
    "id": "szM4oUXx3Kck"
   },
   "source": [
    "#### 🎯 Step 8: Define Target Variable and Features"
   ]
  },
  {
   "cell_type": "code",
   "execution_count": null,
   "metadata": {
    "id": "9D428YUW3MOn"
   },
   "outputs": [],
   "source": [
    "X = data_cleaned.drop(columns=['amt'])  # Features (only numerical values)\n",
    "y = data_cleaned['amt']  # Target variable (Transaction Amount)"
   ]
  },
  {
   "cell_type": "markdown",
   "metadata": {
    "id": "__R0bREJ3QrL"
   },
   "source": [
    "#### 🔀 Step 9: Split Data into Training & Testing Sets (80% Train, 20% Test)"
   ]
  },
  {
   "cell_type": "code",
   "execution_count": null,
   "metadata": {
    "id": "Y8HQmGBU3T9l"
   },
   "outputs": [],
   "source": [
    "X_train, X_test, y_train, y_test = train_test_split(X, y, test_size=0.2, random_state=42)"
   ]
  },
  {
   "cell_type": "markdown",
   "metadata": {
    "id": "bnexayZS3YB0"
   },
   "source": [
    "#### 🤖 Step 10: Train Random Forest Model"
   ]
  },
  {
   "cell_type": "code",
   "execution_count": null,
   "metadata": {
    "colab": {
     "base_uri": "https://localhost:8080/",
     "height": 159
    },
    "executionInfo": {
     "elapsed": 493,
     "status": "error",
     "timestamp": 1741171484220,
     "user": {
      "displayName": "Madanu Tharun",
      "userId": "05589658064618241522"
     },
     "user_tz": -330
    },
    "id": "d8u7aUMp3ZVK",
    "outputId": "6f2bb95b-e62e-4164-bf22-000e5e3e7f31"
   },
   "outputs": [
    {
     "ename": "NameError",
     "evalue": "name 'RandomForestRegressor' is not defined",
     "output_type": "error",
     "traceback": [
      "\u001b[0;31m---------------------------------------------------------------------------\u001b[0m",
      "\u001b[0;31mNameError\u001b[0m                                 Traceback (most recent call last)",
      "\u001b[0;32m<ipython-input-1-78314f313895>\u001b[0m in \u001b[0;36m<cell line: 0>\u001b[0;34m()\u001b[0m\n\u001b[0;32m----> 1\u001b[0;31m \u001b[0mrf_model\u001b[0m \u001b[0;34m=\u001b[0m \u001b[0mRandomForestRegressor\u001b[0m\u001b[0;34m(\u001b[0m\u001b[0mn_estimators\u001b[0m\u001b[0;34m=\u001b[0m\u001b[0;36m100\u001b[0m\u001b[0;34m,\u001b[0m \u001b[0mrandom_state\u001b[0m\u001b[0;34m=\u001b[0m\u001b[0;36m42\u001b[0m\u001b[0;34m)\u001b[0m\u001b[0;34m\u001b[0m\u001b[0;34m\u001b[0m\u001b[0m\n\u001b[0m\u001b[1;32m      2\u001b[0m \u001b[0mrf_model\u001b[0m\u001b[0;34m.\u001b[0m\u001b[0mfit\u001b[0m\u001b[0;34m(\u001b[0m\u001b[0mX_train\u001b[0m\u001b[0;34m,\u001b[0m \u001b[0my_train\u001b[0m\u001b[0;34m)\u001b[0m\u001b[0;34m\u001b[0m\u001b[0;34m\u001b[0m\u001b[0m\n",
      "\u001b[0;31mNameError\u001b[0m: name 'RandomForestRegressor' is not defined"
     ]
    }
   ],
   "source": [
    "rf_model = RandomForestRegressor(n_estimators=100, random_state=42)\n",
    "rf_model.fit(X_train, y_train)"
   ]
  },
  {
   "cell_type": "markdown",
   "metadata": {
    "id": "7ajYDAL83dUz"
   },
   "source": [
    "#### 📊 Step 11: Make Predictions"
   ]
  },
  {
   "cell_type": "code",
   "execution_count": null,
   "metadata": {
    "id": "9ksH9GrM3mEi"
   },
   "outputs": [],
   "source": [
    "y_pred = rf_model.predict(X_test)"
   ]
  },
  {
   "cell_type": "markdown",
   "metadata": {
    "id": "WOWQ0JMd3pnI"
   },
   "source": [
    "#### 📝 Step 12: Evaluate the Model"
   ]
  },
  {
   "cell_type": "code",
   "execution_count": null,
   "metadata": {
    "id": "ZqkfrZTx3vFk"
   },
   "outputs": [],
   "source": [
    "mae = mean_absolute_error(y_test, y_pred)\n",
    "mse = mean_squared_error(y_test, y_pred)\n",
    "rmse = np.sqrt(mse)\n",
    "r2 = r2_score(y_test, y_pred)\n",
    "\n",
    "print(\"\\nModel Performance Metrics:\")\n",
    "print(f\"Mean Absolute Error (MAE): {mae}\")\n",
    "print(f\"Mean Squared Error (MSE): {mse}\")\n",
    "print(f\"Root Mean Squared Error (RMSE): {rmse}\")\n",
    "print(f\"R² Score: {r2}\")\n"
   ]
  },
  {
   "cell_type": "markdown",
   "metadata": {
    "id": "dOoXXu3vDEiv"
   },
   "source": [
    "###Week 4: Model Selection, Baseline, and Hyperparameter Tuning**"
   ]
  },
  {
   "cell_type": "markdown",
   "metadata": {
    "id": "iWCloFNRDMd7"
   },
   "source": [
    "####**Step 13: Save the Final Model and Results**\n",
    "\n",
    "\n"
   ]
  },
  {
   "cell_type": "code",
   "execution_count": null,
   "metadata": {
    "id": "CJHsTLuiDpJN"
   },
   "outputs": [],
   "source": [
    "# Import necessary libraries\n",
    "import joblib\n",
    "import pandas as pd\n",
    "\n",
    "# Ensure the best trained model exists (Run hyperparameter tuning if needed)\n",
    "if 'best_rf' not in locals():\n",
    "    print(\"Error: 'best_rf' model not found. Make sure you have trained and tuned the model before saving.\")\n",
    "else:\n",
    "    # Save the trained final model\n",
    "    joblib.dump(best_rf, 'final_random_forest_model.joblib')\n",
    "    print(\"Final Random Forest model saved as 'final_random_forest_model.joblib'\")\n",
    "\n",
    "# Ensure predictions exist before saving them\n",
    "if 'y_pred_final' not in locals() or 'y_test' not in locals():\n",
    "    print(\"Error: Predictions not found. Make sure you have made predictions before saving.\")\n",
    "else:\n",
    "    # Save predictions for further analysis\n",
    "    predictions_df = pd.DataFrame({'Actual': y_test, 'Predicted': y_pred_final})\n",
    "    predictions_df.to_csv('model_predictions.csv', index=False)\n",
    "    print(\"Predictions saved to 'model_predictions.csv'\")\n"
   ]
  },
  {
   "cell_type": "markdown",
   "metadata": {
    "id": "8mtCurW8EJzX"
   },
   "source": [
    "####🛠️ **Step 14: Hyperparameter Tuning with Grid Search**"
   ]
  },
  {
   "cell_type": "code",
   "execution_count": null,
   "metadata": {
    "id": "t1z5GSYBEPzW"
   },
   "outputs": [],
   "source": [
    "from sklearn.model_selection import GridSearchCV\n",
    "\n",
    "param_grid = {\n",
    "    'n_estimators': [50, 100, 150],\n",
    "    'max_depth': [10, 20, None],\n",
    "    'min_samples_split': [2, 5],\n",
    "    'min_samples_leaf': [1, 2]\n",
    "}\n",
    "grid_search = GridSearchCV(estimator=RandomForestRegressor(random_state=42),\n",
    "                           param_grid=param_grid,\n",
    "                           cv=3,\n",
    "                           scoring='r2',\n",
    "                           verbose=2)\n",
    "grid_search.fit(X_train, y_train)\n",
    "print(\"Best Hyperparameters:\", grid_search.best_params_)"
   ]
  },
  {
   "cell_type": "markdown",
   "metadata": {
    "id": "HW1TpTb6EXf2"
   },
   "source": [
    "####📊 **Step 15: Feature Importance Analysis**"
   ]
  },
  {
   "cell_type": "code",
   "execution_count": null,
   "metadata": {
    "id": "XQNUXjmWEjNx"
   },
   "outputs": [],
   "source": [
    "import matplotlib.pyplot as plt\n",
    "import seaborn as sns\n",
    "\n",
    "feature_importances = grid_search.best_estimator_.feature_importances_\n",
    "features = X.columns\n",
    "plt.figure(figsize=(12, 6))\n",
    "sns.barplot(x=feature_importances, y=features, palette='magma')\n",
    "plt.title('Feature Importance from Tuned Random Forest')\n",
    "plt.xlabel('Importance Score')\n",
    "plt.ylabel('Feature')\n",
    "plt.grid(True)\n",
    "plt.show()\n"
   ]
  },
  {
   "cell_type": "markdown",
   "metadata": {
    "id": "op0BvKe8pSmH"
   },
   "source": [
    "##🚀 **Week 5: Model Evaluation, Comparison, and Documentation**"
   ]
  },
  {
   "cell_type": "markdown",
   "metadata": {
    "id": "XtrM4Jo7p48W"
   },
   "source": [
    "#### 📊 **Step 17: Cross-Validation for Model Evaluation**"
   ]
  },
  {
   "cell_type": "code",
   "execution_count": null,
   "metadata": {
    "id": "qJeFvWIrqAnS"
   },
   "outputs": [],
   "source": [
    "from sklearn.model_selection import cross_val_score\n",
    "cv_scores = cross_val_score(grid_search.best_estimator_, X_train, y_train, cv=5, scoring='r2')\n",
    "print(\"Mean CV R² Score:\", cv_scores.mean())"
   ]
  },
  {
   "cell_type": "markdown",
   "metadata": {
    "id": "bHYFVbYqqRVy"
   },
   "source": [
    "#### 🆚 **Step 18: Model Comparison**"
   ]
  },
  {
   "cell_type": "code",
   "execution_count": null,
   "metadata": {
    "id": "EJ4KAMt3qR1l"
   },
   "outputs": [],
   "source": [
    "lr_model = LinearRegression()\n",
    "lr_model.fit(X_train, y_train)\n",
    "lr_r2 = lr_model.score(X_test, y_test)\n",
    "rf_r2 = r2_score(y_test, grid_search.best_estimator_.predict(X_test))\n",
    "print(\"Linear Regression R² Score:\", lr_r2)\n",
    "print(\"Random Forest R² Score:\", rf_r2)"
   ]
  },
  {
   "cell_type": "markdown",
   "metadata": {
    "id": "_nmMcuTBq1c_"
   },
   "source": [
    "#### 📝 **Step 19: Project Report Generation**"
   ]
  },
  {
   "cell_type": "code",
   "execution_count": null,
   "metadata": {
    "id": "GXZoJaIqq-N1"
   },
   "outputs": [],
   "source": [
    "report = f\"\"\"\n",
    "**Model Comparison:**\n",
    "- Linear Regression R² Score: {lr_r2:.4f}\n",
    "- Random Forest R² Score: {rf_r2:.4f}\n",
    "**Cross-Validation:**\n",
    "- Mean CV R² Score: {cv_scores.mean():.4f}\n",
    "\"\"\"\n",
    "with open('model_evaluation_report.txt', 'w') as file:\n",
    "    file.write(report)\n",
    "print(\"Model evaluation report saved as 'model_evaluation_report.txt'\")"
   ]
  },
  {
   "cell_type": "markdown",
   "metadata": {
    "id": "zHv3pZphsyN-"
   },
   "source": [
    "### 🚀 **Week 6: Deployment and API Integration**\n"
   ]
  },
  {
   "cell_type": "markdown",
   "metadata": {
    "id": "Pe7gl3Xks1LG"
   },
   "source": [
    "#### 🌐 **Step 20: Deploying the Model with Flask API**"
   ]
  },
  {
   "cell_type": "code",
   "execution_count": null,
   "metadata": {
    "id": "YNAlMrihs6DW"
   },
   "outputs": [],
   "source": [
    "```python\n",
    "from flask import Flask, request, jsonify\n",
    "import joblib\n",
    "import pandas as pd\n",
    "\n",
    "app = Flask(__name__)\n",
    "\n",
    "# Load trained model\n",
    "model = joblib.load('final_random_forest_model.joblib')\n",
    "\n",
    "@app.route('/predict', methods=['POST'])\n",
    "def predict():\n",
    "    data = request.get_json()\n",
    "    df = pd.DataFrame(data)\n",
    "    prediction = model.predict(df)\n",
    "    return jsonify({'prediction': prediction.tolist()})\n",
    "\n",
    "if __name__ == '__main__':\n",
    "    app.run(debug=True)"
   ]
  },
  {
   "cell_type": "markdown",
   "metadata": {
    "id": "vSZ-1qudtGLH"
   },
   "source": [
    "#### 🚀 **Step 21: Testing the API**"
   ]
  },
  {
   "cell_type": "code",
   "execution_count": null,
   "metadata": {
    "id": "YtpEBGY1tQIn"
   },
   "outputs": [],
   "source": [
    "python\n",
    "import requests\n",
    "\n",
    "url = 'http://127.0.0.1:5000/predict'\n",
    "data = {'feature1': [value1], 'feature2': [value2]}  # Replace with actual features\n",
    "response = requests.post(url, json=data)\n",
    "print(response.json())"
   ]
  },
  {
   "cell_type": "markdown",
   "metadata": {
    "id": "BeorKKR-tiz2"
   },
   "source": [
    "### 🚀 **Week 7: Performance Monitoring and Future Improvements**"
   ]
  },
  {
   "cell_type": "markdown",
   "metadata": {
    "id": "P6JLmuSNtmMM"
   },
   "source": [
    "#### 📈 **Step 22: Monitoring Model Performance**"
   ]
  },
  {
   "cell_type": "code",
   "execution_count": null,
   "metadata": {
    "id": "i_jqky2stsY6"
   },
   "outputs": [],
   "source": [
    "python\n",
    "import mlflow\n",
    "mlflow.set_experiment(\"Credit Card Sales Prediction\")\n",
    "\n",
    "with mlflow.start_run():\n",
    "    mlflow.log_param(\"n_estimators\", 100)\n",
    "    mlflow.log_param(\"max_depth\", 20)\n",
    "    mlflow.log_metric(\"r2_score\", rf_r2)\n",
    "    mlflow.sklearn.log_model(rf_model, \"random_forest_model\")"
   ]
  },
  {
   "cell_type": "markdown",
   "metadata": {
    "id": "dEu0-UczuDDO"
   },
   "source": [
    "#### 🔄 **Step 23: Continuous Model Retraining**"
   ]
  },
  {
   "cell_type": "code",
   "execution_count": null,
   "metadata": {
    "id": "7Ev_hsoFuGXB"
   },
   "outputs": [],
   "source": [
    "python\n",
    "from apscheduler.schedulers.background import BackgroundScheduler\n",
    "\n",
    "def retrain_model():\n",
    "    # Reload data, train new model, and save\n",
    "    new_data = pd.read_csv(\"new_credit_card_transactions.csv\")\n",
    "    new_X = new_data.drop(columns=['amt'])\n",
    "    new_y = new_data['amt']\n",
    "    new_rf_model = RandomForestRegressor(n_estimators=100, random_state=42)\n",
    "    new_rf_model.fit(new_X, new_y)\n",
    "    joblib.dump(new_rf_model, 'final_random_forest_model.joblib')\n",
    "    print(\"Model retrained and updated!\")\n",
    "\n",
    "scheduler = BackgroundScheduler()\n",
    "scheduler.add_job(retrain_model, 'interval', weeks=1)  # Retrain weekly\n",
    "scheduler.start()"
   ]
  },
  {
   "cell_type": "markdown",
   "metadata": {
    "id": "KzuFhHMeuKx5"
   },
   "source": [
    "#### 📝 **Step 24: Future Improvements**"
   ]
  },
  {
   "cell_type": "code",
   "execution_count": null,
   "metadata": {
    "id": "WzkCpBgtuPZ_"
   },
   "outputs": [],
   "source": [
    "- **Enhance Feature Engineering:** Use time-series analysis for seasonal trends.\n",
    "- **Optimize Hyperparameters Further:** Experiment with Bayesian Optimization.\n",
    "- **Use More Advanced Models:** Try XGBoost or Deep Learning for improved accuracy.\n",
    "- **Deploy on Cloud:** Host the API on AWS/GCP for scalability."
   ]
  }
 ],
 "metadata": {
  "accelerator": "GPU",
  "colab": {
   "authorship_tag": "ABX9TyOL+1JJ1EAlESilpdcLcIth",
   "gpuType": "T4",
   "mount_file_id": "1hSQISlpMmDohPzE51ZjowdDn0ryI-Ykv",
   "provenance": [],
   "toc_visible": true
  },
  "kernelspec": {
   "display_name": "Python 3 (ipykernel)",
   "language": "python",
   "name": "python3"
  },
  "language_info": {
   "codemirror_mode": {
    "name": "ipython",
    "version": 3
   },
   "file_extension": ".py",
   "mimetype": "text/x-python",
   "name": "python",
   "nbconvert_exporter": "python",
   "pygments_lexer": "ipython3",
   "version": "3.10.9"
  }
 },
 "nbformat": 4,
 "nbformat_minor": 1
}
